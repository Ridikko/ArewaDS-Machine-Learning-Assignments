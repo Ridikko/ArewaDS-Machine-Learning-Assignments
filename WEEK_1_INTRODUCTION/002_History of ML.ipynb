{
 "cells": [
  {
   "attachments": {},
   "cell_type": "markdown",
   "metadata": {},
   "source": [
    "### How Machine Learning comes to being\n",
    "\n",
    "#### The advent of machine learning starts long ago, as it can be traced to that of Artificial Intelligence. The advances of machine learning algorithms and computations played a part in the development of artificial intelligence. The advent of these field can be traced back to the 1760’s before we even get to grasped the field in the 1950’s. It was in the 50’s that Alan Turing came up with the concept of a “machine that can think” in his famous “Turing test”.\n",
    "\n",
    "#### Moreover, in 1956, the Dartmouth Summer Research Project workshop took place, and was credited with initiating of the research and several discussions that followed. Machine learning went through various instances to arrive at what we know today, which we cannot go into in this piece. Today, we can confidently say that machine learning and artificial intelligence is everywhere around us and there is so much potential in the future.\n",
    "\n"
   ]
  }
 ],
 "metadata": {
  "language_info": {
   "name": "python"
  },
  "orig_nbformat": 4
 },
 "nbformat": 4,
 "nbformat_minor": 2
}
