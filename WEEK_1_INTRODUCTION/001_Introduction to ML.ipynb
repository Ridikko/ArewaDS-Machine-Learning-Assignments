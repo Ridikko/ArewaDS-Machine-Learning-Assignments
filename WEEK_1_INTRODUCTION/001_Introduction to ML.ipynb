{
 "cells": [
  {
   "attachments": {},
   "cell_type": "markdown",
   "metadata": {},
   "source": [
    "#### This chapter is basically on the introduction of machine learning with comparisons specific to the human brain\n",
    "#### Artificial intelligence is a concept that allow us to develop computer systems that can perform various tasks, by using human intelligence.\n",
    "#### Machine learning as a field refers to using sophisticated algorithms in uncovering hidden and meaningful information around us in order to arrive at a meaningful conclusion and output. Machine learning is now applied in almost all of our activities."
   ]
  }
 ],
 "metadata": {
  "language_info": {
   "name": "python"
  },
  "orig_nbformat": 4
 },
 "nbformat": 4,
 "nbformat_minor": 2
}
