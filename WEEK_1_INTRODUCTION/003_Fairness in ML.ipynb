{
 "cells": [
  {
   "attachments": {},
   "cell_type": "markdown",
   "metadata": {},
   "source": [
    "### Fairness in Machine Learning\n",
    "\n",
    "#### Since we have established that machine learning is now part our everyday lives, it is only fair to expect these systems to work in a way that will suit the end users. Fairness in machine learning refers to making sure that models designed conforms to ethics, responsibleness, and works in a positive manner to everyone.\n",
    "\n",
    "#### Data is a powerful tool, and when gathered, can be made to perform extraordinary things. So, it is possible to have shortcomings and other issues that might arise from these processed models. And as humans, we all have limitations on what we can do at a time. Therefore, it is best to put into consideration the aspect of fairness in order not to harm anybody or group of individuals.\n",
    "\n",
    "#### In order to establish fairness in these models, we need to understand and develop our models in a fair manner. These can be made through assessment methods such that we can identify the unfairness made, identify those that were targeted, and define some measures that can be used to assess the level of fairness in a model."
   ]
  }
 ],
 "metadata": {
  "language_info": {
   "name": "python"
  },
  "orig_nbformat": 4
 },
 "nbformat": 4,
 "nbformat_minor": 2
}
