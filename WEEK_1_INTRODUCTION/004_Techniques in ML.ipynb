{
 "cells": [
  {
   "attachments": {},
   "cell_type": "markdown",
   "metadata": {},
   "source": [
    "### Techniques of Machine Learning\n",
    "\n",
    "#### As usual, machine learning has its own techniques that is different from other development models. It comprises of different steps, these include:\n",
    "\n",
    "#### Making decision on a question.\n",
    "#### 1. Collection and preparation of data.\n",
    "#### 2. Choosing a training method that will be applied.\n",
    "#### 3. Training the model.\n",
    "#### 4. Evaluating the model.\n",
    "#### 5. Testing different instances on the model.\n",
    "#### 6. Making Predictions on new inputs to ascertain the level of dependence for the model."
   ]
  },
  {
   "cell_type": "markdown",
   "metadata": {},
   "source": []
  }
 ],
 "metadata": {
  "language_info": {
   "name": "python"
  },
  "orig_nbformat": 4
 },
 "nbformat": 4,
 "nbformat_minor": 2
}
