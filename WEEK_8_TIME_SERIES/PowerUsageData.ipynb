{
 "cells": [
  {
   "cell_type": "markdown",
   "metadata": {},
   "source": [
    "#### Exercise - getting started with power usage data"
   ]
  },
  {
   "cell_type": "markdown",
   "metadata": {},
   "source": [
    "##### 1. Start by adding libraries that will help you load and visualize data"
   ]
  },
  {
   "cell_type": "code",
   "execution_count": 3,
   "metadata": {},
   "outputs": [
    {
     "name": "stdout",
     "output_type": "stream",
     "text": [
      "Collecting common\n",
      "  Downloading common-0.1.2.tar.gz (3.5 kB)\n",
      "  Preparing metadata (setup.py): started\n",
      "  Preparing metadata (setup.py): finished with status 'done'\n",
      "Building wheels for collected packages: common\n",
      "  Building wheel for common (setup.py): started\n",
      "  Building wheel for common (setup.py): finished with status 'done'\n",
      "  Created wheel for common: filename=common-0.1.2-py3-none-any.whl size=3715 sha256=b5e79b51cf4c84dfbf5924b653470ddd1de2825d24fc5d9d9437afa440dc2fa4\n",
      "  Stored in directory: c:\\users\\ridikko\\appdata\\local\\pip\\cache\\wheels\\c0\\74\\13\\fe3274a9137054148c69e3f0424bd2fcf068ed25998047ecb5\n",
      "Successfully built common\n",
      "Installing collected packages: common\n",
      "Successfully installed common-0.1.2\n"
     ]
    }
   ],
   "source": [
    "! pip install common"
   ]
  },
  {
   "cell_type": "code",
   "execution_count": 5,
   "metadata": {},
   "outputs": [
    {
     "name": "stdout",
     "output_type": "stream",
     "text": [
      "Collecting common.utils\n",
      "  Downloading common_utils-2.0.1.dev1-py2.py3-none-any.whl (8.9 kB)\n",
      "Installing collected packages: common.utils\n",
      "Successfully installed common.utils-2.0.1.dev1\n"
     ]
    }
   ],
   "source": [
    "! pip install common.utils"
   ]
  },
  {
   "cell_type": "code",
   "execution_count": null,
   "metadata": {},
   "outputs": [],
   "source": [
    "! pip install common\n",
    "! pip install common.utils\n",
    "import os\n",
    "import matplotlib.pyplot as plt\n",
    "from common.utils import load_data\n",
    "%matplotlib inline"
   ]
  },
  {
   "cell_type": "markdown",
   "metadata": {},
   "source": []
  }
 ],
 "metadata": {
  "kernelspec": {
   "display_name": "ArewaDS",
   "language": "python",
   "name": "python3"
  },
  "language_info": {
   "codemirror_mode": {
    "name": "ipython",
    "version": 3
   },
   "file_extension": ".py",
   "mimetype": "text/x-python",
   "name": "python",
   "nbconvert_exporter": "python",
   "pygments_lexer": "ipython3",
   "version": "3.10.11"
  },
  "orig_nbformat": 4
 },
 "nbformat": 4,
 "nbformat_minor": 2
}
